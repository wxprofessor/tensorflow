{
 "cells": [
  {
   "cell_type": "markdown",
   "metadata": {},
   "source": [
    "#### Install Tensorflow 2.x with Nvidia GPU Support, and Jupyter Lab with Anaconda\n",
    "\n",
    "Patrick L. Francis<br clear=\"all\">\n",
    "[ W3: <a href=\"http://mlpat.com/\" target=\"_blank\">mlpat.com</a> ] [ Twitter: <a href=\"https://twitter.com/mlpat_\" target=\"_blank\">mlpat_</a> ] [ Github: <a href=\"https://github.com/wxprofessor\" target=\"_blank\">wxprofessor</a> ] (not much visible, mostly private!)\n"
   ]
  },
  {
   "cell_type": "markdown",
   "metadata": {},
   "source": [
    "### First, always ensure that your Windows installation is up to date!\n",
    "\n",
    "<img src=\"images/update.png\" align=\"left\" />\n"
   ]
  },
  {
   "cell_type": "markdown",
   "metadata": {},
   "source": [
    "### Next install Anaconda\n",
    "<a href=\"https://www.anaconda.com/products/individual#windows\" target=\"_blank\">Download Here</a> ... note: It is now called the \"Individual Edition,\" so yes, that is the correct link (at the time of this writing!)\n",
    "\n",
    "While installing:\n",
    "1. Choose \"Just Me\"\n",
    "2. Select your destination folder (personally I use a seperate drive 'D:\\' for my python / tensorflow work, and keep my OS drive by itself on 'C:\\', but if you only have one that is fine too! :)\n",
    "3. Do NOT add Anaconda3 to your PATH environment variable (best to use command prompt), HOWEVER, choose the 'Register Anaconda3 as your default python'<br clear=\"all\">\n",
    "<img src=\"images/conda.png\" align=\"left\" /> <br clear=\"all\">\n",
    "4. Then click next to install\n",
    "\n"
   ]
  },
  {
   "cell_type": "markdown",
   "metadata": {},
   "source": [
    "### Now update your Conda and Python installations\n",
    "\n",
    "<img src=\"images/doz.png\" align=\"left\" /> <br clear=\"all\">\n",
    "\n",
    " -- Open your Anaconda Prompt and type the following\n",
    " \n",
    "#### First update your conda:\n",
    "`conda update conda`\n",
    "#### Then update your Python:\n",
    "`conda update python`\n",
    "#### Then update all packages / dependencies\n",
    "`conda update --all`"
   ]
  },
  {
   "cell_type": "markdown",
   "metadata": {},
   "source": [
    "### Now that the updates are complete, it is ok to install TensorFlow\n",
    "The command below is designed to create a new python environment specifically for Tensorflow with Nvidia GPU Support, AND it automatically installs Tensorflow with CUDA, cuDNN and all of the all of the relevant dependencies... pretty cool isn't it? not like we had to do with TF 1.x :)\n",
    "\n",
    "`conda create -n tf-gpu tensorflow-gpu`\n",
    "\n",
    "Now make SURE to activate (switch to) the environment you just created... and ALWAYS remember to do so when logging back on the next day.. you will forget often, and become frustrated until it becomes second nature!!! It is very important to become accustomed to making environments for each project you start!!\n",
    "\n",
    "` conda activate tf-gpu `"
   ]
  },
  {
   "cell_type": "markdown",
   "metadata": {},
   "source": [
    "### Now install Jupyter Lab (I much prefer it to vanilla Jupyter Notebook!)\n",
    "\n",
    "`conda install -c conda-forge jupyterlab`"
   ]
  },
  {
   "cell_type": "markdown",
   "metadata": {},
   "source": [
    "#### Display CUDA SMI info to verify proper tensorflow GPU installation"
   ]
  },
  {
   "cell_type": "code",
   "execution_count": 9,
   "metadata": {},
   "outputs": [
    {
     "name": "stdout",
     "output_type": "stream",
     "text": [
      "Tue Aug 18 22:43:16 2020       \n",
      "+-----------------------------------------------------------------------------+\n",
      "| NVIDIA-SMI 452.06       Driver Version: 452.06       CUDA Version: 11.0     |\n",
      "|-------------------------------+----------------------+----------------------+\n",
      "| GPU  Name            TCC/WDDM | Bus-Id        Disp.A | Volatile Uncorr. ECC |\n",
      "| Fan  Temp  Perf  Pwr:Usage/Cap|         Memory-Usage | GPU-Util  Compute M. |\n",
      "|===============================+======================+======================|\n",
      "|   0  GeForce RTX 2080   WDDM  | 00000000:01:00.0  On |                  N/A |\n",
      "| 32%   34C    P8     2W / 215W |   1047MiB /  8192MiB |      1%      Default |\n",
      "+-------------------------------+----------------------+----------------------+\n",
      "                                                                               \n",
      "+-----------------------------------------------------------------------------+\n",
      "| Processes:                                                                  |\n",
      "|  GPU   GI   CI        PID   Type   Process name                  GPU Memory |\n",
      "|        ID   ID                                                   Usage      |\n",
      "|=============================================================================|\n",
      "|    0   N/A  N/A      1552    C+G   Insufficient Permissions        N/A      |\n",
      "|    0   N/A  N/A      1756    C+G   ...b3d8bbwe\\WinStore.App.exe    N/A      |\n",
      "|    0   N/A  N/A      3176    C+G   ...qxf38zg5c\\Skype\\Skype.exe    N/A      |\n",
      "|    0   N/A  N/A      4012    C+G   ...root\\Office16\\WINWORD.EXE    N/A      |\n",
      "|    0   N/A  N/A      6136    C+G   ...me\\Application\\chrome.exe    N/A      |\n",
      "|    0   N/A  N/A      9448    C+G   C:\\Windows\\explorer.exe         N/A      |\n",
      "|    0   N/A  N/A     10744    C+G   ...artMenuExperienceHost.exe    N/A      |\n",
      "|    0   N/A  N/A     11052    C+G   ...5n1h2txyewy\\SearchApp.exe    N/A      |\n",
      "|    0   N/A  N/A     11064    C+G   ...tem32\\MicrosoftEdgeCP.exe    N/A      |\n",
      "|    0   N/A  N/A     11516    C+G   ...ekyb3d8bbwe\\YourPhone.exe    N/A      |\n",
      "|    0   N/A  N/A     11804    C+G   ...y\\ShellExperienceHost.exe    N/A      |\n",
      "|    0   N/A  N/A     11936    C+G   ...nputApp\\TextInputHost.exe    N/A      |\n",
      "|    0   N/A  N/A     13028    C+G   ...qxf38zg5c\\Skype\\Skype.exe    N/A      |\n",
      "|    0   N/A  N/A     13376    C+G   ...3d8bbwe\\MicrosoftEdge.exe    N/A      |\n",
      "|    0   N/A  N/A     13972    C+G   ...IR iCUE Software\\iCUE.exe    N/A      |\n",
      "|    0   N/A  N/A     14736      C   ...a3\\envs\\tf-gpu\\python.exe    N/A      |\n",
      "|    0   N/A  N/A     15884    C+G   ...lPanel\\SystemSettings.exe    N/A      |\n",
      "|    0   N/A  N/A     16472    C+G   ...ekyb3d8bbwe\\commsapps.exe    N/A      |\n",
      "|    0   N/A  N/A     18112    C+G   ...bbwe\\Microsoft.Photos.exe    N/A      |\n",
      "+-----------------------------------------------------------------------------+\n"
     ]
    }
   ],
   "source": [
    "!nvidia-smi"
   ]
  },
  {
   "cell_type": "markdown",
   "metadata": {},
   "source": [
    "#### Confirm that Tensorflow can access the GPU"
   ]
  },
  {
   "cell_type": "code",
   "execution_count": 10,
   "metadata": {},
   "outputs": [
    {
     "name": "stdout",
     "output_type": "stream",
     "text": [
      "Found GPU at: /device:GPU:0\n"
     ]
    }
   ],
   "source": [
    "# confirm that TensorFlow can access the GPU\n",
    "\n",
    "import tensorflow as tf\n",
    "\n",
    "device_name = tf.test.gpu_device_name()\n",
    "if not device_name:\n",
    "  raise SystemError('GPU device not found')\n",
    "print('Found GPU at: {}'.format(device_name))"
   ]
  },
  {
   "cell_type": "markdown",
   "metadata": {},
   "source": [
    "### Another test (new to TF 2.x)\n",
    "<a href=\"https://www.tensorflow.org/guide/gpu\" target=\"_blank\">Useful GPU TF Link</a>"
   ]
  },
  {
   "cell_type": "code",
   "execution_count": 11,
   "metadata": {},
   "outputs": [
    {
     "name": "stdout",
     "output_type": "stream",
     "text": [
      "Num GPUs Available:  1\n"
     ]
    }
   ],
   "source": [
    "import tensorflow as tf\n",
    "print(\"Num GPUs Available: \", len(tf.config.experimental.list_physical_devices('GPU')))"
   ]
  },
  {
   "cell_type": "markdown",
   "metadata": {},
   "source": [
    "### Next install PyCharm\n",
    "\n",
    "If you don't know what it is... get it, learn it, use it... (I use it with R on windows as well as TF/DS type work)\n",
    "\n",
    "<a href=\"https://www.jetbrains.com/pycharm/download/#section=windows\" target=\"_blank\">Download here</a> (The 'Community' version is free)"
   ]
  },
  {
   "cell_type": "markdown",
   "metadata": {},
   "source": [
    "##### My location:\n",
    "` D:\\github\\mlpat.com\\notebooks\\tensorflow\\basic `"
   ]
  },
  {
   "cell_type": "code",
   "execution_count": null,
   "metadata": {},
   "outputs": [],
   "source": []
  }
 ],
 "metadata": {
  "kernelspec": {
   "display_name": "Python 3",
   "language": "python",
   "name": "python3"
  },
  "language_info": {
   "codemirror_mode": {
    "name": "ipython",
    "version": 3
   },
   "file_extension": ".py",
   "mimetype": "text/x-python",
   "name": "python",
   "nbconvert_exporter": "python",
   "pygments_lexer": "ipython3",
   "version": "3.7.7"
  }
 },
 "nbformat": 4,
 "nbformat_minor": 4
}
